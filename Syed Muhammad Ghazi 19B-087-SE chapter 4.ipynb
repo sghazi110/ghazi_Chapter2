{
 "cells": [
  {
   "cell_type": "code",
   "execution_count": 1,
   "metadata": {},
   "outputs": [
    {
     "name": "stdout",
     "output_type": "stream",
     "text": [
      "a) 637 \n",
      "b) 54 \n",
      "c) 3637455 \n",
      "d) 0363 \n",
      "e) 545\n"
     ]
    }
   ],
   "source": [
    "#4.1\n",
    "s = '0363745545'\n",
    "s1=s[2:5]\n",
    "s2=s[-3:-1]\n",
    "s3=s[1:-2]\n",
    "s4=s[0:4]\n",
    "s5=s[-3:]\n",
    "print(\"a)\",s1,\"\\nb)\",s2,\"\\nc)\",s3,\"\\nd)\",s4,\"\\ne)\",s5)"
   ]
  },
  {
   "cell_type": "code",
   "execution_count": 3,
   "metadata": {},
   "outputs": [
    {
     "name": "stdout",
     "output_type": "stream",
     "text": [
      "a) 2 \n",
      "b) 13 \n",
      "c) It will be a cloud day today\n"
     ]
    }
   ],
   "source": [
    "#4.2\n",
    "forecast='It will be a sunny day today'\n",
    "a=forecast.count('day')\n",
    "b=forecast.find('sunny')\n",
    "c=forecast.replace('sunny','cloud')\n",
    "print(\"a)\",a,\"\\nb)\",b,\"\\nc)\",c)"
   ]
  },
  {
   "cell_type": "code",
   "execution_count": 4,
   "metadata": {},
   "outputs": [
    {
     "name": "stdout",
     "output_type": "stream",
     "text": [
      "Syed\tMuhammad\tGhazi\n"
     ]
    }
   ],
   "source": [
    "#4.3\n",
    "last = 'Syed'\n",
    "first = 'Muhammad'\n",
    "middle = 'Ghazi'\n",
    "print(last, first, middle, sep='\\t')\n"
   ]
  },
  {
   "cell_type": "code",
   "execution_count": 5,
   "metadata": {},
   "outputs": [
    {
     "name": "stdout",
     "output_type": "stream",
     "text": [
      "2, 3, 4, 6, 8, 9, 10, 12, 14, 15, 16, 18, 20, 21, 22, 24, 26, 27, 28, 30, 32, 33, 34, 36, 38, 39, 40, 42, 44, 45, 46, 48, "
     ]
    }
   ],
   "source": [
    "#4.4\n",
    "def even(n):\n",
    "    for i in range(2, n+1):\n",
    "        if i%2 == 0 or i%3 == 0:\n",
    "            print(i, end=', ')\n",
    "even(48)"
   ]
  },
  {
   "cell_type": "code",
   "execution_count": 6,
   "metadata": {},
   "outputs": [
    {
     "name": "stdout",
     "output_type": "stream",
     "text": [
      "Syed Ghazi\n",
      "67778998 X4 Maymar\n",
      "Karachi, Sindh 75340\n"
     ]
    }
   ],
   "source": [
    "#4.5\n",
    "first = 'Syed'\n",
    "last = 'Ghazi'\n",
    "street = 'X4 Maymar'\n",
    "number =67778998\n",
    "city = 'Karachi'\n",
    "state = 'Sindh'\n",
    "zipcode = '75340'\n",
    "print('{} {}\\n{} {}\\n{}, {} {}'.format(first,last,number,street,city,state,zipcode))"
   ]
  },
  {
   "cell_type": "code",
   "execution_count": 7,
   "metadata": {},
   "outputs": [
    {
     "name": "stdout",
     "output_type": "stream",
     "text": [
      "prints average grade for a roster of students\n",
      "Last First Class Average Grade\n",
      "Syed      Muhammad  Ghazi         4.00\n",
      "Muhammad  Sufiyan   Nasir         4.00\n",
      "Muhammad  Ibtesam   Hussain       3.00\n",
      "Ali       Raza      Abidi         2.50\n",
      "Nehal     Manzar    Rizvi         4.00\n"
     ]
    }
   ],
   "source": [
    "#4.6\n",
    "def roster(students):\n",
    "    print('prints average grade for a roster of students')\n",
    "    print('Last First Class Average Grade')\n",
    "    for student in students:\n",
    "        print('{:10}{:10}{:10}{:8.2f}'.format(student[0],student[1], student[2], student[3]))\n",
    "students = []\n",
    "students.append(['Syed', 'Muhammad', 'Ghazi', 4.0])\n",
    "students.append(['Muhammad', 'Sufiyan', 'Nasir', 4.0])\n",
    "students.append(['Muhammad', 'Ibtesam', 'Hussain', 3.0])\n",
    "students.append(['Ali', 'Raza', 'Abidi', 2.5])\n",
    "students.append(['Nehal', 'Manzar', 'Rizvi', 4.0])\n",
    "roster(students)\n"
   ]
  },
  {
   "cell_type": "code",
   "execution_count": 9,
   "metadata": {},
   "outputs": [
    {
     "ename": "NameError",
     "evalue": "name 'time' is not defined",
     "output_type": "error",
     "traceback": [
      "\u001b[1;31m---------------------------------------------------------------------------\u001b[0m",
      "\u001b[1;31mNameError\u001b[0m                                 Traceback (most recent call last)",
      "\u001b[1;32m<ipython-input-9-517e1856e73a>\u001b[0m in \u001b[0;36m<module>\u001b[1;34m\u001b[0m\n\u001b[0;32m      4\u001b[0m     \u001b[0mprint\u001b[0m\u001b[1;33m(\u001b[0m\u001b[0mtime\u001b[0m\u001b[1;33m.\u001b[0m\u001b[0mstrftime\u001b[0m\u001b[1;33m(\u001b[0m\u001b[1;34m'%H'\u001b[0m\u001b[1;34m':%M'\u001b[0m \u001b[1;34m'%p'\u001b[0m \u001b[1;34m' '\u001b[0m \u001b[1;34m'%Z'\u001b[0m \u001b[1;34m' '\u001b[0m\u001b[1;34m'on'\u001b[0m \u001b[1;34m' '\u001b[0m \u001b[1;34m'%m'\u001b[0m \u001b[1;34m'/%d'\u001b[0m\u001b[1;34m'/%y'\u001b[0m \u001b[1;33m)\u001b[0m\u001b[1;33m)\u001b[0m\u001b[1;33m\u001b[0m\u001b[1;33m\u001b[0m\u001b[0m\n\u001b[0;32m      5\u001b[0m     \u001b[0mprint\u001b[0m\u001b[1;33m(\u001b[0m\u001b[0mtime\u001b[0m\u001b[1;33m.\u001b[0m\u001b[0mstrftime\u001b[0m\u001b[1;33m(\u001b[0m\u001b[1;34m'I will meet you on '\u001b[0m\u001b[1;34m'%A %b %d at'\u001b[0m \u001b[1;34m' '\u001b[0m \u001b[1;34m'%m'\u001b[0m \u001b[1;34m'/%d'\u001b[0m\u001b[1;34m'/%y'\u001b[0m\u001b[1;33m)\u001b[0m\u001b[1;33m)\u001b[0m\u001b[1;33m\u001b[0m\u001b[1;33m\u001b[0m\u001b[0m\n\u001b[1;32m----> 6\u001b[1;33m \u001b[0mtimer\u001b[0m\u001b[1;33m(\u001b[0m\u001b[1;33m)\u001b[0m\u001b[1;33m\u001b[0m\u001b[1;33m\u001b[0m\u001b[0m\n\u001b[0m",
      "\u001b[1;32m<ipython-input-9-517e1856e73a>\u001b[0m in \u001b[0;36mtimer\u001b[1;34m()\u001b[0m\n\u001b[0;32m      1\u001b[0m \u001b[1;31m#4.7\u001b[0m\u001b[1;33m\u001b[0m\u001b[1;33m\u001b[0m\u001b[1;33m\u001b[0m\u001b[0m\n\u001b[0;32m      2\u001b[0m \u001b[1;32mdef\u001b[0m \u001b[0mtimer\u001b[0m\u001b[1;33m(\u001b[0m\u001b[1;33m)\u001b[0m\u001b[1;33m:\u001b[0m\u001b[1;33m\u001b[0m\u001b[1;33m\u001b[0m\u001b[0m\n\u001b[1;32m----> 3\u001b[1;33m     \u001b[0mprint\u001b[0m\u001b[1;33m(\u001b[0m\u001b[0mtime\u001b[0m\u001b[1;33m.\u001b[0m\u001b[0mstrftime\u001b[0m\u001b[1;33m(\u001b[0m\u001b[1;34m'%A'\u001b[0m \u001b[1;34m' '\u001b[0m \u001b[1;34m'%b'\u001b[0m \u001b[1;34m'/%d'\u001b[0m \u001b[1;34m'/%Y'\u001b[0m\u001b[1;33m)\u001b[0m\u001b[1;33m)\u001b[0m\u001b[1;33m\u001b[0m\u001b[1;33m\u001b[0m\u001b[0m\n\u001b[0m\u001b[0;32m      4\u001b[0m     \u001b[0mprint\u001b[0m\u001b[1;33m(\u001b[0m\u001b[0mtime\u001b[0m\u001b[1;33m.\u001b[0m\u001b[0mstrftime\u001b[0m\u001b[1;33m(\u001b[0m\u001b[1;34m'%H'\u001b[0m\u001b[1;34m':%M'\u001b[0m \u001b[1;34m'%p'\u001b[0m \u001b[1;34m' '\u001b[0m \u001b[1;34m'%Z'\u001b[0m \u001b[1;34m' '\u001b[0m\u001b[1;34m'on'\u001b[0m \u001b[1;34m' '\u001b[0m \u001b[1;34m'%m'\u001b[0m \u001b[1;34m'/%d'\u001b[0m\u001b[1;34m'/%y'\u001b[0m \u001b[1;33m)\u001b[0m\u001b[1;33m)\u001b[0m\u001b[1;33m\u001b[0m\u001b[1;33m\u001b[0m\u001b[0m\n\u001b[0;32m      5\u001b[0m     \u001b[0mprint\u001b[0m\u001b[1;33m(\u001b[0m\u001b[0mtime\u001b[0m\u001b[1;33m.\u001b[0m\u001b[0mstrftime\u001b[0m\u001b[1;33m(\u001b[0m\u001b[1;34m'I will meet you on '\u001b[0m\u001b[1;34m'%A %b %d at'\u001b[0m \u001b[1;34m' '\u001b[0m \u001b[1;34m'%m'\u001b[0m \u001b[1;34m'/%d'\u001b[0m\u001b[1;34m'/%y'\u001b[0m\u001b[1;33m)\u001b[0m\u001b[1;33m)\u001b[0m\u001b[1;33m\u001b[0m\u001b[1;33m\u001b[0m\u001b[0m\n",
      "\u001b[1;31mNameError\u001b[0m: name 'time' is not defined"
     ]
    }
   ],
   "source": [
    "#4.7\n",
    "def timer():\n",
    "    print(time.strftime('%A' ' ' '%b' '/%d' '/%Y'))\n",
    "    print(time.strftime('%H'':%M' '%p' ' ' '%Z' ' ''on' ' ' '%m' '/%d''/%y' ))\n",
    "    print(time.strftime('I will meet you on ''%A %b %d at' ' ' '%m' '/%d''/%y'))\n",
    "timer()"
   ]
  },
  {
   "cell_type": "code",
   "execution_count": 52,
   "metadata": {},
   "outputs": [
    {
     "data": {
      "text/plain": [
       "0"
      ]
     },
     "execution_count": 52,
     "metadata": {},
     "output_type": "execute_result"
    }
   ],
   "source": [
    "#4.8\n",
    "def stringCount(filename, target): \n",
    "    'returns the number of occurrences of target in file filename' \n",
    "    infile = open(filename)\n",
    "    content = infile.read()\n",
    "    infile.close()\n",
    "    return content.count(target)\n",
    "stringCount('example.txt', 'am')"
   ]
  },
  {
   "cell_type": "code",
   "execution_count": 36,
   "metadata": {},
   "outputs": [
    {
     "name": "stdout",
     "output_type": "stream",
     "text": [
      "['i', 'am', 'syed', 'muhammad', 'ghazi', 'and', 'i', 'am', 'sudent', 'of', 'software', 'engineering', 'at', 'uit', 'i', 'am', 'from', 'batch', '2019', 'which', 'in', 'uit', 'is', 'known', 'as', '19b', 'batch']\n"
     ]
    }
   ],
   "source": [
    "#4.9\n",
    "def words(filename): \n",
    "    'returns the list of words in file filename' \n",
    "    infile = open(filename, 'r')\n",
    "    content = infile.read()\n",
    "    infile.close()\n",
    "    table = str.maketrans('!,.:;?', 6*' ')\n",
    "    content=content.translate(table)\n",
    "    content=content.lower()\n",
    "    print(content.split()) \n",
    "\n",
    "\n",
    "words('example.txt')   "
   ]
  },
  {
   "cell_type": "code",
   "execution_count": 35,
   "metadata": {},
   "outputs": [
    {
     "name": "stdout",
     "output_type": "stream",
     "text": [
      "This returns the target characters from the string: \n",
      "I am Syed Muhammad Ghazi and I am sudent of Software Engineering at UIT. I am from batch 2019 which in UIt is known as 19B batch\n",
      "\n"
     ]
    }
   ],
   "source": [
    "#4.10\n",
    "def myGrep(filename,target):\n",
    "    print(\"This returns the target characters from the string: \")\n",
    "    infile= open(filename,'r')\n",
    "    for line in infile:\n",
    "        if target in line:\n",
    "            print(line)\n",
    "        \n",
    "        \n",
    "    \n",
    "filename= 'example.txt'        \n",
    "myGrep(filename, 'am')\n",
    "    "
   ]
  },
  {
   "cell_type": "code",
   "execution_count": 12,
   "metadata": {},
   "outputs": [
    {
     "name": "stdout",
     "output_type": "stream",
     "text": [
      "a) The left parenthesis and the right bracket do not match. The intended expression is probably either (3+4) (evaluating to integer 7) or [3+4] (evaluating to a list containing integer 7).\n",
      "b) The column is missing; the correct expression is if x == 5:.\n",
      "c) print() is a function and thus must be called with parentheses and with arguments, if any, inside them; the correct expression is print('hello')\n",
      "d) The objects in a list are separated by commas: lst=[4,5,6] is correct.\n",
      "e) The statement(s) in the body of a for loop must be indented.\n"
     ]
    }
   ],
   "source": [
    "#4.11\n",
    "print(\"a) The left parenthesis and the right bracket do not match. The intended expression is probably either (3+4) (evaluating to integer 7) or [3+4] (evaluating to a list containing integer 7).\")\n",
    "print(\"b) The column is missing; the correct expression is if x == 5:.\")\n",
    "print(\"c) print() is a function and thus must be called with parentheses and with arguments, if any, inside them; the correct expression is print('hello')\")\n",
    "print(\"d) The objects in a list are separated by commas: lst=[4,5,6] is correct.\")\n",
    "print(\"e) The statement(s) in the body of a for loop must be indented.\")"
   ]
  },
  {
   "cell_type": "code",
   "execution_count": 13,
   "metadata": {},
   "outputs": [
    {
     "name": "stdout",
     "output_type": "stream",
     "text": [
      "bcd\n",
      "bc\n",
      "defghijklmnopqrstuvwx\n",
      "wxy\n",
      "wxyz\n"
     ]
    }
   ],
   "source": [
    "#4.12\n",
    "s = 'abcdefghijklmnopqrstuvwxyz'\n",
    "print(s[1:4])\n",
    "print(s[1:3])\n",
    "print(s[3:24])\n",
    "print(s[22:25])\n",
    "print(s[22:])"
   ]
  },
  {
   "cell_type": "code",
   "execution_count": 14,
   "metadata": {},
   "outputs": [
    {
     "name": "stdout",
     "output_type": "stream",
     "text": [
      "True\n",
      "True\n",
      "True\n",
      "True\n"
     ]
    }
   ],
   "source": [
    "#4.13\n",
    "s = 'abcdefghijklmnopqrstuvwxyz'\n",
    "print(s[1:3]=='bc')\n",
    "print(s[:14]=='abcdefghijklmn')\n",
    "print(s[14:]=='opqrstuvwxyz')\n",
    "print(s[1:-1]=='bcdefghijklmnopqrstuvwxy')"
   ]
  },
  {
   "cell_type": "code",
   "execution_count": 15,
   "metadata": {},
   "outputs": [
    {
     "name": "stdout",
     "output_type": "stream",
     "text": [
      "['128.0.0.1 - - [12/Feb/2011:10:31:08 -0600] \"GET /docs/test.txt HTTP/1.0\"']\n"
     ]
    }
   ],
   "source": [
    "#4.14\n",
    "log='128.0.0.1 - - [12/Feb/2011:10:31:08 -0600] \"GET /docs/test.txt HTTP/1.0\"'\n",
    "print(log.split('[0]'))"
   ]
  },
  {
   "cell_type": "code",
   "execution_count": 16,
   "metadata": {},
   "outputs": [
    {
     "name": "stdout",
     "output_type": "stream",
     "text": [
      "['10', '20', '30', '40', '50', '60']\n",
      "['10', '20', '30', '40', '50', '60']\n",
      "['10', '20', '30', '40', '50', '60']\n",
      "['10', '20', '30', '40', '50', '60']\n"
     ]
    }
   ],
   "source": [
    "#4.15\n",
    "s = '10 20 30 40 50 60' \n",
    "print(s.split())\n",
    "\n",
    "s = '10,20,30,40,50,60'\n",
    "print(s.split(sep=\",\"))\n",
    "\n",
    "s = '10&20&30&40&50&60' \n",
    "print(s.split(sep=\"&\"))\n",
    "\n",
    "s = '10 - 20 - 30 - 40 - 50 - 60'\n",
    "print(s.split(sep=\" - \"))"
   ]
  },
  {
   "cell_type": "code",
   "execution_count": 18,
   "metadata": {},
   "outputs": [
    {
     "name": "stdout",
     "output_type": "stream",
     "text": [
      "Enter first word: 'bass'\n",
      "Enter second word: 'salmon'\n",
      "Enter third word: 'whitefish'\n",
      "True\n"
     ]
    }
   ],
   "source": [
    "#4.16\n",
    "word1 = eval(input(\"Enter first word: \"))\n",
    "word2 = eval(input(\"Enter second word: \"))\n",
    "word3 = eval(input(\"Enter third word: \"))\n",
    "if word1 < word2 and word2 < word3 :\n",
    "    print(True)"
   ]
  },
  {
   "cell_type": "code",
   "execution_count": 20,
   "metadata": {},
   "outputs": [
    {
     "name": "stdout",
     "output_type": "stream",
     "text": [
      "49\n",
      "1\n",
      "The message is xxxxxx because it is confidential.\n"
     ]
    }
   ],
   "source": [
    "#4.17\n",
    "message = \"The message is secret because it is confidential.\"\n",
    "length = len(message)\n",
    "count = message.count('secret')\n",
    "censored = message.replace(\"secret\",\"xxxxxx\")\n",
    "\n",
    "print(length)\n",
    "print(count)\n",
    "print(censored)"
   ]
  },
  {
   "cell_type": "code",
   "execution_count": 21,
   "metadata": {},
   "outputs": [
    {
     "ename": "ValueError",
     "evalue": "the first two maketrans arguments must have equal length",
     "output_type": "error",
     "traceback": [
      "\u001b[1;31m---------------------------------------------------------------------------\u001b[0m",
      "\u001b[1;31mValueError\u001b[0m                                Traceback (most recent call last)",
      "\u001b[1;32m<ipython-input-21-50e54a607c59>\u001b[0m in \u001b[0;36m<module>\u001b[1;34m\u001b[0m\n\u001b[0;32m      1\u001b[0m \u001b[1;31m#4.18\u001b[0m\u001b[1;33m\u001b[0m\u001b[1;33m\u001b[0m\u001b[1;33m\u001b[0m\u001b[0m\n\u001b[0;32m      2\u001b[0m \u001b[0ms\u001b[0m \u001b[1;33m=\u001b[0m \u001b[1;34m'''It was the best of times, it was the worst of times; it was the age of wisdom, it was the age of foolishness; it was the epoch of belief, it was the epoch of incredulity; it was ...'''\u001b[0m\u001b[1;33m\u001b[0m\u001b[1;33m\u001b[0m\u001b[0m\n\u001b[1;32m----> 3\u001b[1;33m \u001b[0mtable\u001b[0m\u001b[1;33m=\u001b[0m \u001b[0mstr\u001b[0m\u001b[1;33m.\u001b[0m\u001b[0mmaketrans\u001b[0m\u001b[1;33m(\u001b[0m\u001b[1;34m\".,:\\n\"\u001b[0m\u001b[1;33m,\u001b[0m\u001b[1;34m\"\"\u001b[0m\u001b[1;33m)\u001b[0m\u001b[1;33m\u001b[0m\u001b[1;33m\u001b[0m\u001b[0m\n\u001b[0m\u001b[0;32m      4\u001b[0m \u001b[0mnewS\u001b[0m\u001b[1;33m=\u001b[0m \u001b[0ms\u001b[0m\u001b[1;33m.\u001b[0m\u001b[0mtranslate\u001b[0m\u001b[1;33m(\u001b[0m\u001b[0mtable\u001b[0m\u001b[1;33m)\u001b[0m\u001b[1;33m\u001b[0m\u001b[1;33m\u001b[0m\u001b[0m\n",
      "\u001b[1;31mValueError\u001b[0m: the first two maketrans arguments must have equal length"
     ]
    }
   ],
   "source": [
    "#4.18\n",
    "s = '''It was the best of times, it was the worst of times; it was the age of wisdom, it was the age of foolishness; it was the epoch of belief, it was the epoch of incredulity; it was ...'''\n",
    "table= str.maketrans(\".,:\\n\",\"\")\n",
    "newS= s.translate(table)\n"
   ]
  },
  {
   "cell_type": "code",
   "execution_count": 22,
   "metadata": {},
   "outputs": [
    {
     "name": "stdout",
     "output_type": "stream",
     "text": [
      "Sigel,Marlena Mae\n",
      "Sigel,Marlena Mae.\n",
      "Marlena Mae. Sigel\n",
      "Marlena. Mae. Sigel\n",
      "Sigel, Marlena\n"
     ]
    }
   ],
   "source": [
    "#4.19\n",
    "\n",
    "first = 'Marlena'\n",
    "last = 'Sigel'\n",
    "middle = 'Mae'\n",
    "print(\"{2},{0} {1}\".format(first,middle,last))\n",
    "print(\"{2},{0} {1}.\".format(first,middle,last))\n",
    "print(\"{0} {1}. {2}\".format(first,middle,last))\n",
    "print(\"{0}. {1}. {2}\".format(first,middle,last))\n",
    "print(\"{1}, {0}\".format(first,last))\n",
    "\n"
   ]
  },
  {
   "cell_type": "code",
   "execution_count": 23,
   "metadata": {},
   "outputs": [
    {
     "name": "stdout",
     "output_type": "stream",
     "text": [
      "From: tim@abc.com \n",
      "To: tom@xyz.org \n",
      "Subject: Hello!\n"
     ]
    }
   ],
   "source": [
    "#4.20\n",
    "sender = 'tim@abc.com' \n",
    "recipient = 'tom@xyz.org'\n",
    "subject = 'Hello!'\n",
    "print(\"From:\", sender,\"\\nTo:\",recipient,\"\\nSubject:\",subject)"
   ]
  },
  {
   "cell_type": "code",
   "execution_count": 26,
   "metadata": {},
   "outputs": [
    {
     "name": "stdout",
     "output_type": "stream",
     "text": [
      "Enter the number of the month: 9\n",
      "Sep\n"
     ]
    }
   ],
   "source": [
    "#4.22\n",
    "def month(n):\n",
    "    temp = \"JanFebMarAprMayJunJulAugSepOctNovDec\"\n",
    "    return temp[(n-1)*3:n*3]\n",
    "n=int(input(\"Enter the number of the month: \"))\n",
    "print(month(n))"
   ]
  },
  {
   "cell_type": "code",
   "execution_count": 27,
   "metadata": {},
   "outputs": [
    {
     "name": "stdout",
     "output_type": "stream",
     "text": [
      "Enter a sentence: 'a sample sentence'\n"
     ]
    },
    {
     "data": {
      "text/plain": [
       "5.0"
      ]
     },
     "execution_count": 27,
     "metadata": {},
     "output_type": "execute_result"
    }
   ],
   "source": [
    "#4.23\n",
    "def average(words):\n",
    "    sentence = eval(input(\"Enter a sentence: \"))\n",
    "    words = sentence.split()\n",
    "    return sum(len(i) for i in words)/len(words)\n",
    "average(words)"
   ]
  },
  {
   "cell_type": "code",
   "execution_count": 28,
   "metadata": {},
   "outputs": [
    {
     "name": "stdout",
     "output_type": "stream",
     "text": [
      "How do you spell winner? \n",
      "I know,I know!\n",
      " UITIANS\n",
      "And thats how you spell winner! \n",
      "Go UITIANS!"
     ]
    }
   ],
   "source": [
    "#4.24\n",
    "def cheer(team):\n",
    "    print('How do you spell winner? \\nI know,I know!\\n',team.upper(),end='' )\n",
    "    print('\\nAnd thats how you spell winner! \\nGo',team.upper(),end='!')\n",
    "cheer('uitians')"
   ]
  },
  {
   "cell_type": "code",
   "execution_count": 29,
   "metadata": {},
   "outputs": [
    {
     "name": "stdout",
     "output_type": "stream",
     "text": [
      "a,e,i,o,u appears respectively 1,3,0,1,1 times\n"
     ]
    }
   ],
   "source": [
    "#4.25\n",
    "def vowelcount(text):\n",
    "    a=text.count(\"a\")\n",
    "    b=text.count(\"e\")\n",
    "    c=text.count(\"i\")\n",
    "    d=text.count(\"o\")\n",
    "    e=text.count(\"u\")\n",
    "    print('a,e,i,o,u appears respectively {},{},{},{},{} times'.format(a,b,c,d,e))\n",
    "vowelcount('Le Tour de France')"
   ]
  },
  {
   "cell_type": "code",
   "execution_count": 37,
   "metadata": {},
   "outputs": [
    {
     "name": "stdout",
     "output_type": "stream",
     "text": [
      "I am xxxx Muhammad Ghazi and I am sudent of Software Engineering at UIT. I am from batch 2019 which in UIt is known as 19B batch\n",
      "\n"
     ]
    }
   ],
   "source": [
    "#4.26\n",
    "def crypto(filename):\n",
    "    infile = open(filename,'r')\n",
    "    text = infile.read()\n",
    "    text =  text.replace(\"Syed\",\"xxxx\")\n",
    "    print(text)\n",
    "\n",
    "\n",
    "crypto('example.txt')"
   ]
  },
  {
   "cell_type": "code",
   "execution_count": 39,
   "metadata": {},
   "outputs": [
    {
     "name": "stdout",
     "output_type": "stream",
     "text": [
      "I am Syed Muhammad Ghazi and I am sudent of Software Engineering at UIT. I am from batch 2019 which in UIt is known as 19B batch\n",
      "\n",
      "I am Syed Muhammad Ghazi and I am sudent of Software Engineering at UIT. I am from batch 2019 which in UIt is known as 19B batch\n",
      "\n"
     ]
    }
   ],
   "source": [
    "#4.27\n",
    "def fcopy(file1,file2):\n",
    "    infile1 = open(file1,\"r\")\n",
    "    text = infile1.read()\n",
    "    infile1.close()\n",
    "    outfile = open(file2,\"w\")\n",
    "    outfile.write(text)\n",
    "    outfile.close()\n",
    "fcopy('example.txt','example(2).txt')\n",
    "infile = open('example(2).txt','r')\n",
    "text = infile.read()\n",
    "print(text)\n",
    "infile = open('example.txt','r')\n",
    "text = infile.read()\n",
    "print(text)"
   ]
  },
  {
   "cell_type": "code",
   "execution_count": 40,
   "metadata": {},
   "outputs": [
    {
     "name": "stdout",
     "output_type": "stream",
     "text": [
      "character count: 129\n",
      "Words count: 27\n",
      "Lines count: 0\n"
     ]
    }
   ],
   "source": [
    "#4.29\n",
    "def stats(filename):\n",
    "    infile = open(filename, 'r')\n",
    "    content = infile.read()\n",
    "    words = content.split()\n",
    "    lines = infile.readlines()\n",
    "    print(\"character count:\",len(content))\n",
    "    print(\"Words count:\", len(words))\n",
    "    print(\"Lines count:\", len(lines))\n",
    "stats('example.txt')"
   ]
  },
  {
   "cell_type": "code",
   "execution_count": 41,
   "metadata": {},
   "outputs": [
    {
     "name": "stdout",
     "output_type": "stream",
     "text": [
      "6 students got A\n",
      "2 students got A-\n",
      "3 students got B+\n",
      "10 students got B\n",
      "3 students got C\n",
      "1 students got C-\n",
      "1 students got F\n"
     ]
    }
   ],
   "source": [
    "#4.30\n",
    "def distribution(filename):\n",
    "    infile= open(filename, 'r')\n",
    "    grade= infile.read()\n",
    "    print(grade.count(\"A\"),\"students got A\")\n",
    "    print(grade.count(\"A-\"),\"students got A-\")\n",
    "    print(grade.count(\"B+\"),\"students got B+\")\n",
    "    print(grade.count(\"B\"),\"students got B\")\n",
    "    print(grade.count(\"C\"),\"students got C\")\n",
    "    print(grade.count(\"C-\"),\"students got C-\")\n",
    "    print(grade.count(\"F\"),\"students got F\")\n",
    "\n",
    "distribution('grades.txt')\n"
   ]
  },
  {
   "cell_type": "code",
   "execution_count": 43,
   "metadata": {},
   "outputs": [
    {
     "name": "stdout",
     "output_type": "stream",
     "text": [
      "true\n"
     ]
    }
   ],
   "source": [
    "def duplicate(filename):\n",
    "    infile=open(filename,'r')\n",
    "    content=infile.read()\n",
    "    infile.close()\n",
    "    word=content.split()\n",
    "    word_set=set(word)\n",
    "    if len(word_set)==len(word):\n",
    "        print('false')\n",
    "    else:\n",
    "        print('true')\n",
    "duplicate('example.txt')"
   ]
  },
  {
   "cell_type": "code",
   "execution_count": 50,
   "metadata": {},
   "outputs": [
    {
     "ename": "TypeError",
     "evalue": "'function' object is not iterable",
     "output_type": "error",
     "traceback": [
      "\u001b[1;31m---------------------------------------------------------------------------\u001b[0m",
      "\u001b[1;31mTypeError\u001b[0m                                 Traceback (most recent call last)",
      "\u001b[1;32m<ipython-input-50-71cb1f0d9398>\u001b[0m in \u001b[0;36m<module>\u001b[1;34m\u001b[0m\n\u001b[0;32m      9\u001b[0m             \u001b[0mwords\u001b[0m\u001b[1;33m[\u001b[0m\u001b[0mwords\u001b[0m\u001b[1;33m.\u001b[0m\u001b[0mindex\u001b[0m\u001b[1;33m(\u001b[0m\u001b[0mi\u001b[0m\u001b[1;33m)\u001b[0m\u001b[1;33m]\u001b[0m\u001b[1;33m=\u001b[0m\u001b[1;34m'xxxx'\u001b[0m\u001b[1;33m\u001b[0m\u001b[1;33m\u001b[0m\u001b[0m\n\u001b[0;32m     10\u001b[0m     \u001b[0moutfile\u001b[0m\u001b[1;33m.\u001b[0m\u001b[0mwrite\u001b[0m\u001b[1;33m(\u001b[0m\u001b[1;34m''\u001b[0m\u001b[1;33m.\u001b[0m\u001b[0mjoin\u001b[0m\u001b[1;33m(\u001b[0m\u001b[0mwords\u001b[0m\u001b[1;33m)\u001b[0m\u001b[1;33m)\u001b[0m\u001b[1;33m\u001b[0m\u001b[1;33m\u001b[0m\u001b[0m\n\u001b[1;32m---> 11\u001b[1;33m \u001b[0mcensor\u001b[0m\u001b[1;33m(\u001b[0m\u001b[1;34m'example.txt'\u001b[0m\u001b[1;33m)\u001b[0m\u001b[1;33m\u001b[0m\u001b[1;33m\u001b[0m\u001b[0m\n\u001b[0m",
      "\u001b[1;32m<ipython-input-50-71cb1f0d9398>\u001b[0m in \u001b[0;36mcensor\u001b[1;34m(filename)\u001b[0m\n\u001b[0;32m      5\u001b[0m     \u001b[0mfile\u001b[0m\u001b[1;33m.\u001b[0m\u001b[0mclose\u001b[0m\u001b[1;33m(\u001b[0m\u001b[1;33m)\u001b[0m\u001b[1;33m\u001b[0m\u001b[1;33m\u001b[0m\u001b[0m\n\u001b[0;32m      6\u001b[0m     \u001b[0mword\u001b[0m\u001b[1;33m=\u001b[0m\u001b[0mcontent\u001b[0m\u001b[1;33m.\u001b[0m\u001b[0msplit\u001b[0m\u001b[1;33m(\u001b[0m\u001b[1;33m)\u001b[0m\u001b[1;33m\u001b[0m\u001b[1;33m\u001b[0m\u001b[0m\n\u001b[1;32m----> 7\u001b[1;33m     \u001b[1;32mfor\u001b[0m \u001b[0mi\u001b[0m \u001b[1;32min\u001b[0m \u001b[0mwords\u001b[0m\u001b[1;33m:\u001b[0m\u001b[1;33m\u001b[0m\u001b[1;33m\u001b[0m\u001b[0m\n\u001b[0m\u001b[0;32m      8\u001b[0m         \u001b[1;32mif\u001b[0m \u001b[0mlen\u001b[0m\u001b[1;33m==\u001b[0m\u001b[1;36m4\u001b[0m\u001b[1;33m:\u001b[0m\u001b[1;33m\u001b[0m\u001b[1;33m\u001b[0m\u001b[0m\n\u001b[0;32m      9\u001b[0m             \u001b[0mwords\u001b[0m\u001b[1;33m[\u001b[0m\u001b[0mwords\u001b[0m\u001b[1;33m.\u001b[0m\u001b[0mindex\u001b[0m\u001b[1;33m(\u001b[0m\u001b[0mi\u001b[0m\u001b[1;33m)\u001b[0m\u001b[1;33m]\u001b[0m\u001b[1;33m=\u001b[0m\u001b[1;34m'xxxx'\u001b[0m\u001b[1;33m\u001b[0m\u001b[1;33m\u001b[0m\u001b[0m\n",
      "\u001b[1;31mTypeError\u001b[0m: 'function' object is not iterable"
     ]
    }
   ],
   "source": [
    "def censor(filename):\n",
    "    file=open(filename,'r')\n",
    "    outfile=open('example.txt','w')\n",
    "    content=file.read()\n",
    "    file.close()\n",
    "    word=content.split()\n",
    "    for i in words:\n",
    "        if len==4:\n",
    "            words[words.index(i)]='xxxx'\n",
    "    outfile.write(''.join(words))\n",
    "censor('example.txt')"
   ]
  },
  {
   "cell_type": "code",
   "execution_count": null,
   "metadata": {},
   "outputs": [],
   "source": []
  }
 ],
 "metadata": {
  "kernelspec": {
   "display_name": "Python 3",
   "language": "python",
   "name": "python3"
  },
  "language_info": {
   "codemirror_mode": {
    "name": "ipython",
    "version": 3
   },
   "file_extension": ".py",
   "mimetype": "text/x-python",
   "name": "python",
   "nbconvert_exporter": "python",
   "pygments_lexer": "ipython3",
   "version": "3.7.3"
  }
 },
 "nbformat": 4,
 "nbformat_minor": 2
}
