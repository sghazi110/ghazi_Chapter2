{
 "cells": [
  {
   "cell_type": "markdown",
   "metadata": {},
   "source": [
    "# CHAPTER No. 03 Syed Muhammad Ghazi (19B-087-SE)"
   ]
  },
  {
   "cell_type": "code",
   "execution_count": 3,
   "metadata": {},
   "outputs": [
    {
     "name": "stdout",
     "output_type": "stream",
     "text": [
      "enter the temperature in fahrenhiet:0\n",
      "the temperature in celcius is -17.78\n"
     ]
    }
   ],
   "source": [
    "#1\n",
    "far = eval(input('enter the temperature in fahrenhiet:'))\n",
    "cel = (far-32)*(5/9)\n",
    "print('the temperature in celcius is {:.2f}'.format(cel))"
   ]
  },
  {
   "cell_type": "code",
   "execution_count": 7,
   "metadata": {},
   "outputs": [
    {
     "name": "stdout",
     "output_type": "stream",
     "text": [
      "enter your age:65\n",
      "You can get your pension benefits\n"
     ]
    }
   ],
   "source": [
    "#2(a)\n",
    "age = eval(input('enter your age:'))\n",
    "if age >62:\n",
    "    print('You can get your pension benefits')\n",
    "else:\n",
    "    print('You can not get your pension benefits')"
   ]
  },
  {
   "cell_type": "code",
   "execution_count": 15,
   "metadata": {},
   "outputs": [
    {
     "name": "stdout",
     "output_type": "stream",
     "text": [
      "enter your name:Aaron\n",
      "One of the top 5 baseball players, ever!\n"
     ]
    }
   ],
   "source": [
    "#2(b)\n",
    "name = input('enter your name:')\n",
    "lst =  ['Musial','Aaron','Williams','Gehrig','Ruth']\n",
    "if name in lst:\n",
    "    print('One of the top 5 baseball players, ever!')"
   ]
  },
  {
   "cell_type": "code",
   "execution_count": 16,
   "metadata": {},
   "outputs": [
    {
     "name": "stdout",
     "output_type": "stream",
     "text": [
      "enter the hits:10\n",
      "enter the shield:0\n"
     ]
    }
   ],
   "source": [
    "#2(c)\n",
    "hits = eval(input('enter the hits:'))\n",
    "shield = eval(input('enter the shield:'))\n",
    "if hits > 10 and shield == 0:\n",
    "    print('You\\'re dead ...')"
   ]
  },
  {
   "cell_type": "code",
   "execution_count": 18,
   "metadata": {},
   "outputs": [
    {
     "name": "stdout",
     "output_type": "stream",
     "text": [
      "I can escape.\n"
     ]
    }
   ],
   "source": [
    "#2(d)\n",
    "x = 'north'\n",
    "if x == 'north' or south or east or west:\n",
    "    print('I can escape.')\n"
   ]
  },
  {
   "cell_type": "code",
   "execution_count": 20,
   "metadata": {},
   "outputs": [
    {
     "name": "stdout",
     "output_type": "stream",
     "text": [
      "enter tha year:2008\n",
      "it could be a leap year\n"
     ]
    }
   ],
   "source": [
    "#3(a)\n",
    "year = eval(input('enter tha year:'))\n",
    "if year%4==0:\n",
    "    print('it could be a leap year')\n",
    "else:\n",
    "    print('definately not a leap year')"
   ]
  },
  {
   "cell_type": "code",
   "execution_count": 23,
   "metadata": {},
   "outputs": [
    {
     "name": "stdout",
     "output_type": "stream",
     "text": [
      "enter your ticket:1234\n",
      "You won!\n"
     ]
    }
   ],
   "source": [
    "#3(b)\n",
    "ticket = eval(input('enter your ticket:'))\n",
    "lottery = 1234\n",
    "if ticket == lottery:\n",
    "    print('You won!')\n",
    "else:\n",
    "    print('Better luck next time...')"
   ]
  },
  {
   "cell_type": "code",
   "execution_count": 25,
   "metadata": {},
   "outputs": [
    {
     "name": "stdout",
     "output_type": "stream",
     "text": [
      "enter your username:joe\n",
      "you are in!\n",
      "done\n"
     ]
    }
   ],
   "source": [
    "#4\n",
    "user = input('enter your username:')\n",
    "lst = ['joe', 'sue','hani', 'sophie']\n",
    "if user in lst:\n",
    "    print('you are in!')\n",
    "    print('done')\n",
    "else:\n",
    "    print('user unknown')\n",
    "    print('done')\n"
   ]
  },
  {
   "cell_type": "code",
   "execution_count": 36,
   "metadata": {},
   "outputs": [
    {
     "name": "stdout",
     "output_type": "stream",
     "text": [
      "Enter word list: tuba\n",
      "t\n",
      "u\n",
      "b\n",
      "a\n"
     ]
    }
   ],
   "source": [
    "#5\n",
    "wordList = (input('Enter word list: '))\n",
    "for word in wordList:\n",
    "           print(word)"
   ]
  },
  {
   "cell_type": "code",
   "execution_count": 52,
   "metadata": {},
   "outputs": [
    {
     "name": "stdout",
     "output_type": "stream",
     "text": [
      "0\n",
      "1\n",
      "2\n",
      "3\n",
      "4\n",
      "5\n",
      "6\n",
      "7\n",
      "8\n",
      "9\n"
     ]
    }
   ],
   "source": [
    "#6(a)\n",
    "for i in range(10):\n",
    "    print(i)"
   ]
  },
  {
   "cell_type": "code",
   "execution_count": 54,
   "metadata": {},
   "outputs": [
    {
     "name": "stdout",
     "output_type": "stream",
     "text": [
      "0\n",
      "1\n"
     ]
    }
   ],
   "source": [
    "#6(b)\n",
    "for i in range(0,2):\n",
    "    print(i)\n"
   ]
  },
  {
   "cell_type": "code",
   "execution_count": 58,
   "metadata": {},
   "outputs": [
    {
     "name": "stdout",
     "output_type": "stream",
     "text": [
      "3\n",
      "4\n",
      "5\n",
      "6\n",
      "7\n",
      "8\n",
      "9\n",
      "10\n",
      "11\n",
      "12\n"
     ]
    }
   ],
   "source": [
    "#7(a)\n",
    "for i in range(3, 13):\n",
    "    print(i)"
   ]
  },
  {
   "cell_type": "code",
   "execution_count": 60,
   "metadata": {},
   "outputs": [
    {
     "name": "stdout",
     "output_type": "stream",
     "text": [
      "0\n",
      "2\n",
      "4\n",
      "6\n",
      "8\n"
     ]
    }
   ],
   "source": [
    "#7(b)\n",
    "for i in range(0, 10, 2):\n",
    "    print(i)"
   ]
  },
  {
   "cell_type": "code",
   "execution_count": 61,
   "metadata": {},
   "outputs": [
    {
     "name": "stdout",
     "output_type": "stream",
     "text": [
      "0\n",
      "3\n",
      "6\n",
      "9\n",
      "12\n",
      "15\n",
      "18\n",
      "21\n"
     ]
    }
   ],
   "source": [
    "#7(c)\n",
    "for i in range(0, 24, 3):\n",
    "    print(i)"
   ]
  },
  {
   "cell_type": "code",
   "execution_count": 62,
   "metadata": {},
   "outputs": [
    {
     "name": "stdout",
     "output_type": "stream",
     "text": [
      "3\n",
      "8\n"
     ]
    }
   ],
   "source": [
    "#7(d)\n",
    "for i in range(3,12,5):\n",
    "    print(i)"
   ]
  },
  {
   "cell_type": "code",
   "execution_count": 11,
   "metadata": {},
   "outputs": [
    {
     "data": {
      "text/plain": [
       "263.89378290154264"
      ]
     },
     "execution_count": 11,
     "metadata": {},
     "output_type": "execute_result"
    }
   ],
   "source": [
    "#8\n",
    "import math\n",
    "def perimeter(radius):\n",
    "    return 2 * math.pi * radius\n",
    "perimeter(42)"
   ]
  },
  {
   "cell_type": "code",
   "execution_count": 10,
   "metadata": {},
   "outputs": [
    {
     "data": {
      "text/plain": [
       "3.5"
      ]
     },
     "execution_count": 10,
     "metadata": {},
     "output_type": "execute_result"
    }
   ],
   "source": [
    "#3.9\n",
    "def avg(x,y):\n",
    "    return (x+y)/2\n",
    "avg(3,4)"
   ]
  },
  {
   "cell_type": "code",
   "execution_count": 9,
   "metadata": {},
   "outputs": [
    {
     "data": {
      "text/plain": [
       "True"
      ]
     },
     "execution_count": 9,
     "metadata": {},
     "output_type": "execute_result"
    }
   ],
   "source": [
    "#3.10\n",
    "def novowel(s):\n",
    "    for i in s:\n",
    "        if i in 'aeiouAEIOU':\n",
    "            return False\n",
    "        else:\n",
    "            return True \n",
    "novowel('ghazi')"
   ]
  },
  {
   "cell_type": "code",
   "execution_count": 85,
   "metadata": {},
   "outputs": [
    {
     "data": {
      "text/plain": [
       "False"
      ]
     },
     "execution_count": 85,
     "metadata": {},
     "output_type": "execute_result"
    }
   ],
   "source": [
    "#11\n",
    "def even(numList):\n",
    "     for num in numList:\n",
    "        if num%2 == 0:\n",
    "            return True\n",
    "        else:\n",
    "            return False\n",
    "even([1,2,3,4,5])"
   ]
  },
  {
   "cell_type": "code",
   "execution_count": 90,
   "metadata": {},
   "outputs": [
    {
     "name": "stdout",
     "output_type": "stream",
     "text": [
      "-5\n",
      "-6\n"
     ]
    }
   ],
   "source": [
    "#12\n",
    "def negatives(lst):\n",
    "    for i in lst:\n",
    "        if i < 0:\n",
    "            print(i)\n",
    "\n",
    "negatives([2,3,4,-5,-6])"
   ]
  },
  {
   "cell_type": "code",
   "execution_count": 92,
   "metadata": {},
   "outputs": [
    {
     "name": "stdout",
     "output_type": "stream",
     "text": [
      "-5\n",
      "-6\n",
      "Help on function avg in module __main__:\n",
      "\n",
      "avg(x, y)\n",
      "    #3.13\n",
      "\n",
      "Help on function negatives in module __main__:\n",
      "\n",
      "negatives(lst)\n",
      "\n"
     ]
    }
   ],
   "source": [
    "#13\n",
    "def avg(x,y):\n",
    "    return (x+y)/2\n",
    "avg(2,4)\n",
    "\n",
    "\n",
    "def negatives(lst):\n",
    "    for i in lst:\n",
    "        if i < 0:\n",
    "            print(i)\n",
    "\n",
    "negatives([2,3,4,-5,-6])\n",
    "help(avg)\n",
    "help(negatives)"
   ]
  },
  {
   "cell_type": "code",
   "execution_count": 94,
   "metadata": {},
   "outputs": [
    {
     "name": "stdout",
     "output_type": "stream",
     "text": [
      "the fist a will make a list\n",
      "the b will have the elements of a\n",
      "now we assignt a to 3\n"
     ]
    }
   ],
   "source": [
    "#3.14\n",
    "a = [5, 6, 7]\n",
    "b = a\n",
    "a = 3\n",
    "print('the fist a will make a list')\n",
    "print('the b will have the elements of a')\n",
    "print('now we assignt a to 3')"
   ]
  },
  {
   "cell_type": "code",
   "execution_count": 96,
   "metadata": {},
   "outputs": [
    {
     "name": "stdout",
     "output_type": "stream",
     "text": [
      "['Ava', 'Eleanor', 'Clare', 'Sarah']\n",
      "['Sarah', 'Clare', 'Eleanor', 'Ava']\n"
     ]
    }
   ],
   "source": [
    "#3.15\n",
    "team = ['Ava', 'Eleanor', 'Clare', 'Sarah']\n",
    "print(team)\n",
    "team.reverse()\n",
    "print(team)"
   ]
  },
  {
   "cell_type": "code",
   "execution_count": 109,
   "metadata": {},
   "outputs": [],
   "source": [
    "#3.16\n",
    "def swapFL(lst):\n",
    "    lst[0], lst[-1] = lst[-1], lst[0]\n",
    "swapFL(['flour', 'sugar', 'butter', 'apples'])"
   ]
  },
  {
   "cell_type": "markdown",
   "metadata": {},
   "source": [
    "# EXERCISES"
   ]
  },
  {
   "cell_type": "code",
   "execution_count": 17,
   "metadata": {},
   "outputs": [
    {
     "data": {
      "text/plain": [
       "7"
      ]
     },
     "execution_count": 17,
     "metadata": {},
     "output_type": "execute_result"
    }
   ],
   "source": [
    "#3.17\n",
    "#a\n",
    "eval(str('2*3+1'))"
   ]
  },
  {
   "cell_type": "code",
   "execution_count": 5,
   "metadata": {},
   "outputs": [
    {
     "name": "stdout",
     "output_type": "stream",
     "text": [
      "'hello'\n"
     ]
    },
    {
     "data": {
      "text/plain": [
       "'hello'"
      ]
     },
     "execution_count": 5,
     "metadata": {},
     "output_type": "execute_result"
    }
   ],
   "source": [
    "#b\n",
    "eval(input())"
   ]
  },
  {
   "cell_type": "code",
   "execution_count": 2,
   "metadata": {},
   "outputs": [
    {
     "data": {
      "text/plain": [
       "'hello world!'"
      ]
     },
     "execution_count": 2,
     "metadata": {},
     "output_type": "execute_result"
    }
   ],
   "source": [
    "#c\n",
    "eval(\"'hello' + ' ' + 'world!'\")"
   ]
  },
  {
   "cell_type": "code",
   "execution_count": 3,
   "metadata": {},
   "outputs": [
    {
     "data": {
      "text/plain": [
       "2"
      ]
     },
     "execution_count": 3,
     "metadata": {},
     "output_type": "execute_result"
    }
   ],
   "source": [
    "#d\n",
    "eval(\"'ASCII'.count('I')\")"
   ]
  },
  {
   "cell_type": "code",
   "execution_count": 7,
   "metadata": {},
   "outputs": [],
   "source": [
    "#e\n",
    "x = eval('5')"
   ]
  },
  {
   "cell_type": "code",
   "execution_count": 8,
   "metadata": {},
   "outputs": [
    {
     "name": "stdout",
     "output_type": "stream",
     "text": [
      "OK\n",
      "OK\n"
     ]
    }
   ],
   "source": [
    "#18\n",
    "a,b,c = 3,4,5\n",
    "#18a\n",
    "if a < b :\n",
    "    print(\"OK\")\n",
    "#18b c is less than b\n",
    "if c < b : \n",
    "    print(\"OK\")\n",
    "#18c the sum of a and b is equal to c\n",
    "if a+b == c :\n",
    "    print(\"OK\")\n",
    "#18d the sum of the square a and b is equal to c squared\n",
    "if a**2+b**2 == c**2 :\n",
    "    print(\"OK\")"
   ]
  },
  {
   "cell_type": "code",
   "execution_count": 9,
   "metadata": {},
   "outputs": [
    {
     "name": "stdout",
     "output_type": "stream",
     "text": [
      "OK\n",
      "false\n",
      "false\n",
      "OK\n"
     ]
    }
   ],
   "source": [
    "#19\n",
    "a,b,c = 3,4,5\n",
    "#18a\n",
    "if a < b :\n",
    "    print(\"OK\")\n",
    "else:\n",
    "    print('false')\n",
    "#18b c is less than b\n",
    "if c < b : \n",
    "    print(\"OK\")\n",
    "else:\n",
    "    print('false')\n",
    "#18c the sum of a and b is equal to c\n",
    "if a+b == c :\n",
    "    print(\"OK\")\n",
    "else:\n",
    "    print('false')\n",
    "#18d the sum of the square a and b is equal to c squared\n",
    "if a**2+b**2 == c**2 :\n",
    "    print(\"OK\")\n",
    "else:\n",
    "    print('false')"
   ]
  },
  {
   "cell_type": "code",
   "execution_count": 10,
   "metadata": {},
   "outputs": [
    {
     "name": "stdout",
     "output_type": "stream",
     "text": [
      "Jan\n",
      "Feb\n",
      "Mar\n"
     ]
    }
   ],
   "source": [
    "#20\n",
    "lst = ['January', 'February', 'March']\n",
    "for i in lst:\n",
    "    print(i[:3])"
   ]
  },
  {
   "cell_type": "code",
   "execution_count": 18,
   "metadata": {},
   "outputs": [
    {
     "name": "stdout",
     "output_type": "stream",
     "text": [
      "2  4  6  8  "
     ]
    }
   ],
   "source": [
    "#21\n",
    "lst = [2, 3, 4, 5, 6, 7, 8, 9]\n",
    "for i in lst:\n",
    "    if i%2==0:\n",
    "        print(i ,end='  ')"
   ]
  },
  {
   "cell_type": "code",
   "execution_count": 19,
   "metadata": {},
   "outputs": [
    {
     "name": "stdout",
     "output_type": "stream",
     "text": [
      "4  8  "
     ]
    }
   ],
   "source": [
    "#22\n",
    "lst = [2, 3, 4, 5, 6, 7, 8, 9]\n",
    "for i in lst:\n",
    "    if (i**2)%8==0:\n",
    "        print(i ,end='  ')"
   ]
  },
  {
   "cell_type": "code",
   "execution_count": 1,
   "metadata": {},
   "outputs": [
    {
     "name": "stdout",
     "output_type": "stream",
     "text": [
      "0 1 \n",
      "\n",
      "0 3 4 5 6 \n",
      "\n",
      "1 \n",
      "\n",
      "0 3 \n",
      "\n",
      "5 9 13 17 21 "
     ]
    }
   ],
   "source": [
    "#21a\n",
    "for i in range(2):\n",
    "    print(i,end=\" \")\n",
    "print('\\n')  \n",
    "#21b\n",
    "for i in range(1):\n",
    "    print(i,end=\" \")\n",
    "#21c\n",
    "for i in range(3,7):\n",
    "    print(i,end=\" \")\n",
    "print('\\n')\n",
    "#21d\n",
    "for i in range(1,2):\n",
    "    print(i,end=\" \")\n",
    "print('\\n')\n",
    "#21e\n",
    "for i in range(0,4,3):\n",
    "    print(i,end=\" \")\n",
    "print('\\n')\n",
    "#21f\n",
    "for i in range(5,22,4):\n",
    "    print(i,end=\" \")"
   ]
  },
  {
   "cell_type": "code",
   "execution_count": 2,
   "metadata": {},
   "outputs": [
    {
     "name": "stdout",
     "output_type": "stream",
     "text": [
      "Enter list of words:  ['Ellie', 'Steve', 'Sam', 'Owen', 'Gavin']\n",
      "Ellie\n",
      "Steve\n",
      "Sam\n",
      "Owen\n",
      "Gavin\n"
     ]
    }
   ],
   "source": [
    "#24\n",
    "list = eval(input(\"Enter list of words: \" ))\n",
    "for i in list:\n",
    "    if i != \"secret\":\n",
    "        print(i)"
   ]
  },
  {
   "cell_type": "code",
   "execution_count": 3,
   "metadata": {},
   "outputs": [
    {
     "name": "stdout",
     "output_type": "stream",
     "text": [
      "Enter a list: [2,0,5,4,7]\n",
      "The first list element is 2\n",
      "The last list element is 7\n"
     ]
    }
   ],
   "source": [
    "#26\n",
    "list = eval(input(\"Enter a list: \" ))\n",
    "print(\"The first list element is\",list[0])\n",
    "print(\"The last list element is\",list[-1])"
   ]
  },
  {
   "cell_type": "code",
   "execution_count": 7,
   "metadata": {},
   "outputs": [
    {
     "name": "stdout",
     "output_type": "stream",
     "text": [
      "Enter list: ['Ellie', 'Steve', 'Sam', 'Owen', 'Gavin']\n",
      "Ellie\n",
      "Gavin\n"
     ]
    }
   ],
   "source": [
    "#25\n",
    "list = eval(input(\"Enter list: \" ))\n",
    "for word in list:\n",
    "    if word[0] >= \"A\" and word[0] <= \"M\":\n",
    "        print(word)\n"
   ]
  },
  {
   "cell_type": "code",
   "execution_count": 8,
   "metadata": {},
   "outputs": [
    {
     "name": "stdout",
     "output_type": "stream",
     "text": [
      "Enter n: 5\n",
      "0\n",
      "5\n",
      "10\n",
      "15\n"
     ]
    }
   ],
   "source": [
    "#27\n",
    "n = eval(input(\"Enter n: \" ))\n",
    "for i in range(4):\n",
    "    print(n*i)"
   ]
  },
  {
   "cell_type": "code",
   "execution_count": 12,
   "metadata": {},
   "outputs": [
    {
     "name": "stdout",
     "output_type": "stream",
     "text": [
      "Enter n: 3\n",
      "0\n",
      "1\n",
      "4\n"
     ]
    }
   ],
   "source": [
    "#28\n",
    "n = eval(input(\"Enter n: \" ))\n",
    "for i in range(n):\n",
    "    print(i*i)"
   ]
  },
  {
   "cell_type": "code",
   "execution_count": 14,
   "metadata": {},
   "outputs": [
    {
     "name": "stdout",
     "output_type": "stream",
     "text": [
      "Enter n: 25\n",
      "1\n",
      "5\n",
      "25\n"
     ]
    }
   ],
   "source": [
    "#29\n",
    "n = eval(input(\"Enter n: \" ))\n",
    "for i in range(1,n+1):\n",
    "    if (n%i==0):\n",
    "        print(i)\n"
   ]
  },
  {
   "cell_type": "code",
   "execution_count": 15,
   "metadata": {},
   "outputs": [
    {
     "name": "stdout",
     "output_type": "stream",
     "text": [
      "enter first number:4.5\n",
      "enter second number:3\n",
      "enter third number:3\n",
      "enter last number:3.5\n",
      "equal\n"
     ]
    }
   ],
   "source": [
    "#30\n",
    "a = eval(input('enter first number:'))\n",
    "b = eval(input('enter second number:'))\n",
    "c = eval(input('enter third number:'))\n",
    "d = eval(input('enter last number:'))\n",
    "x = (a+b+c)/3\n",
    "if x == d:\n",
    "    print('equal')\n",
    "else:\n",
    "    pass\n"
   ]
  },
  {
   "cell_type": "code",
   "execution_count": 19,
   "metadata": {},
   "outputs": [
    {
     "name": "stdout",
     "output_type": "stream",
     "text": [
      "enter x:2\n",
      "enter y:2\n",
      "it is in!\n"
     ]
    }
   ],
   "source": [
    "#3.31\n",
    "x = eval(input('enter x:'))\n",
    "y = eval(input('enter y:'))\n",
    "r = 8**2\n",
    "if (x**2)+(y**2)<r:\n",
    "    print('it is in!')\n",
    "else:\n",
    "    pass"
   ]
  },
  {
   "cell_type": "code",
   "execution_count": 1,
   "metadata": {},
   "outputs": [
    {
     "name": "stdout",
     "output_type": "stream",
     "text": [
      "Enter n: 1234\n",
      "0\n"
     ]
    },
    {
     "ename": "OverflowError",
     "evalue": "integer division result too large for a float",
     "output_type": "error",
     "traceback": [
      "\u001b[1;31m---------------------------------------------------------------------------\u001b[0m",
      "\u001b[1;31mOverflowError\u001b[0m                             Traceback (most recent call last)",
      "\u001b[1;32m<ipython-input-1-bbb451405c40>\u001b[0m in \u001b[0;36m<module>\u001b[1;34m\u001b[0m\n\u001b[0;32m      7\u001b[0m     \u001b[0mprint\u001b[0m\u001b[1;33m(\u001b[0m\u001b[0mint\u001b[0m\u001b[1;33m(\u001b[0m\u001b[0mn\u001b[0m\u001b[1;33m/\u001b[0m\u001b[0mx\u001b[0m\u001b[1;33m)\u001b[0m\u001b[1;33m)\u001b[0m\u001b[1;33m\u001b[0m\u001b[1;33m\u001b[0m\u001b[0m\n\u001b[0;32m      8\u001b[0m     \u001b[0mn\u001b[0m \u001b[1;33m=\u001b[0m \u001b[0mn\u001b[0m\u001b[1;33m%\u001b[0m\u001b[0mx\u001b[0m\u001b[1;33m\u001b[0m\u001b[1;33m\u001b[0m\u001b[0m\n\u001b[1;32m----> 9\u001b[1;33m     \u001b[0mx\u001b[0m\u001b[1;33m=\u001b[0m\u001b[0mx\u001b[0m\u001b[1;33m/\u001b[0m\u001b[1;36m10\u001b[0m\u001b[1;33m\u001b[0m\u001b[1;33m\u001b[0m\u001b[0m\n\u001b[0m",
      "\u001b[1;31mOverflowError\u001b[0m: integer division result too large for a float"
     ]
    }
   ],
   "source": [
    "#32\n",
    "n = eval(input(\"Enter n: \"))\n",
    "x = 10\n",
    "while(n/(10*x)!=0):\n",
    "    x=x*10\n",
    "while(n>0):\n",
    "    print(int(n/x))\n",
    "    n = n%x\n",
    "    x=x/10"
   ]
  },
  {
   "cell_type": "code",
   "execution_count": null,
   "metadata": {},
   "outputs": [],
   "source": [
    "#33\n",
    "def rev(s):\n",
    "    return s[::-1]\n",
    "rev('daniyal')\n"
   ]
  },
  {
   "cell_type": "code",
   "execution_count": null,
   "metadata": {},
   "outputs": [],
   "source": [
    "#34\n",
    "def pay(wage,hours):\n",
    "    payment = 0\n",
    "    if (hours>40):\n",
    "        payment = payment+(hours-40)*wage*1.5\n",
    "        payment=payment+40*wage\n",
    "    else:\n",
    "        payment =payment+hours*wage\n",
    "    return payment\n",
    "pay(100,41)"
   ]
  },
  {
   "cell_type": "code",
   "execution_count": 34,
   "metadata": {},
   "outputs": [
    {
     "data": {
      "text/plain": [
       "0.5"
      ]
     },
     "execution_count": 34,
     "metadata": {},
     "output_type": "execute_result"
    }
   ],
   "source": [
    "#3.35\n",
    "def prob(n):\n",
    "    return 2**(-n)\n",
    "prob(1)"
   ]
  },
  {
   "cell_type": "code",
   "execution_count": 36,
   "metadata": {},
   "outputs": [
    {
     "data": {
      "text/plain": [
       "4321"
      ]
     },
     "execution_count": 36,
     "metadata": {},
     "output_type": "execute_result"
    }
   ],
   "source": [
    "#3.36\n",
    "def reverse_int(n):\n",
    "    x=0\n",
    "    while(n!=0):\n",
    "        x*=10\n",
    "        x+=n%10\n",
    "        n=n//10\n",
    "    return x\n",
    "reverse_int(1234)\n"
   ]
  },
  {
   "cell_type": "code",
   "execution_count": 45,
   "metadata": {},
   "outputs": [
    {
     "name": "stdout",
     "output_type": "stream",
     "text": [
      "slope is infinity\n",
      "The slope is 3.0 and the distance is 3.1622776601683795\n"
     ]
    }
   ],
   "source": [
    "#3.37\n",
    "import math\n",
    "def points(x1,y1,x2,y2):\n",
    "    distance = str(math.sqrt((x1-x2)**2+(y1-y2)**2))\n",
    "    if(x1==x2):\n",
    "        print('slope is infinity')\n",
    "    else:\n",
    "            slope = str((y2-y1)/(x2-x1))\n",
    "            print(\"The slope is \"+slope+\" and the distance is \"+distance)\n",
    "\n",
    "points(6,4,6,5)\n",
    "points(3,3,4,6)"
   ]
  },
  {
   "cell_type": "code",
   "execution_count": 47,
   "metadata": {},
   "outputs": [
    {
     "data": {
      "text/plain": [
       "'tu'"
      ]
     },
     "execution_count": 47,
     "metadata": {},
     "output_type": "execute_result"
    }
   ],
   "source": [
    "#3.38\n",
    "def abbreviation(n):\n",
    "    return n[:2]\n",
    "abbreviation('tuesday')"
   ]
  },
  {
   "cell_type": "code",
   "execution_count": 50,
   "metadata": {},
   "outputs": [
    {
     "data": {
      "text/plain": [
       "True"
      ]
     },
     "execution_count": 50,
     "metadata": {},
     "output_type": "execute_result"
    }
   ],
   "source": [
    "#3.39\n",
    "def collision(x1,y1,r1,x2,y2,r2):\n",
    "    if(math.sqrt((x1-x2)**2+(y1-y2)**2) > r1+r2):\n",
    "        return False\n",
    "    else:\n",
    "        return True\n",
    "collision(0,0,3,0,5,3)"
   ]
  },
  {
   "cell_type": "code",
   "execution_count": 52,
   "metadata": {},
   "outputs": [
    {
     "name": "stdout",
     "output_type": "stream",
     "text": [
      "Eleanor\n",
      "Evelyn\n",
      "Gavin\n"
     ]
    }
   ],
   "source": [
    "#3.40\n",
    "def partition(list):\n",
    "    for name in list:\n",
    "        if name[0] >= \"A\" and name[0] <= \"M\":\n",
    "            print(name)\n",
    "partition(['Eleanor', 'Evelyn', 'Sammy', 'Owen', 'Gavin'])"
   ]
  },
  {
   "cell_type": "code",
   "execution_count": 6,
   "metadata": {},
   "outputs": [
    {
     "data": {
      "text/plain": [
       "'ghazi,s.'"
      ]
     },
     "execution_count": 6,
     "metadata": {},
     "output_type": "execute_result"
    }
   ],
   "source": [
    "#3.41\n",
    "def lastF(x,y):\n",
    "    return y+','+x[0]+'.'\n",
    "lastF('syed', 'ghazi')"
   ]
  },
  {
   "cell_type": "code",
   "execution_count": 61,
   "metadata": {},
   "outputs": [
    {
     "name": "stdout",
     "output_type": "stream",
     "text": [
      "90.0\n",
      "60.0\n",
      "87.0\n",
      "11.0\n"
     ]
    }
   ],
   "source": [
    "#3.42\n",
    "def avg(lists):\n",
    "    for list in lists:\n",
    "        print(sum(list)/len(list))\n",
    "avg([[95, 92, 86, 87], [66, 54], [89, 72, 100], [33, 0, 0]])"
   ]
  },
  {
   "cell_type": "code",
   "execution_count": 62,
   "metadata": {},
   "outputs": [
    {
     "data": {
      "text/plain": [
       "True"
      ]
     },
     "execution_count": 62,
     "metadata": {},
     "output_type": "execute_result"
    }
   ],
   "source": [
    "#3.43\n",
    "import math\n",
    "def hit(x1,y1,r,x2,y2):\n",
    "    if(math.sqrt((x1-x2)**2+(y1-y2)**2) > r):\n",
    "        return True\n",
    "    else:\n",
    "        return False\n",
    "hit(1,4,3,4,6)"
   ]
  },
  {
   "cell_type": "code",
   "execution_count": 7,
   "metadata": {},
   "outputs": [
    {
     "data": {
      "text/plain": [
       "11.22957"
      ]
     },
     "execution_count": 7,
     "metadata": {},
     "output_type": "execute_result"
    }
   ],
   "source": [
    "#3.44\n",
    "def distance(t):\n",
    "    return t*340.29/1000\n",
    "distance(33)"
   ]
  },
  {
   "cell_type": "code",
   "execution_count": null,
   "metadata": {},
   "outputs": [],
   "source": []
  }
 ],
 "metadata": {
  "kernelspec": {
   "display_name": "Python 3",
   "language": "python",
   "name": "python3"
  }
 },
 "nbformat": 4,
 "nbformat_minor": 2
}
